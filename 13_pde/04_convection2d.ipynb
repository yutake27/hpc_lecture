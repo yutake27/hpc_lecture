{
 "cells": [
  {
   "cell_type": "raw",
   "metadata": {},
   "source": [
    "Text provided under a Creative Commons Attribution license, CC-BY.  All code is made available under the FSF-approved BSD-3 license.  (c) Lorena A. Barba, Gilbert F. Forsyth 2017. Thanks to NSF for support via CAREER award #1149784."
   ]
  },
  {
   "cell_type": "markdown",
   "metadata": {},
   "source": [
    "[@LorenaABarba](https://twitter.com/LorenaABarba)"
   ]
  },
  {
   "cell_type": "markdown",
   "metadata": {},
   "source": [
    "12 steps to Navier–Stokes\n",
    "=====\n",
    "***"
   ]
  },
  {
   "cell_type": "markdown",
   "metadata": {},
   "source": [
    "Up to now, all of our work has been in one spatial dimension (Steps [1](./01_Step_1.ipynb) to [4](./05_Step_4.ipynb)). We can learn a lot in just 1D, but let's grow up to flatland: two dimensions. \n",
    "\n",
    "In the following exercises, you will extend the first four steps to 2D. To extend the 1D finite-difference formulas to partial derivatives in 2D or 3D, just apply the definition: a partial derivative with respect to $x$ is the variation in the $x$ direction *at constant* $y$.\n",
    "\n",
    "In 2D space, a rectangular (uniform) grid is defined by the points with coordinates:\n",
    "\n",
    "$$x_i = x_0 +i \\Delta x$$\n",
    "\n",
    "$$y_i = y_0 +i \\Delta y$$\n",
    "\n",
    "Now, define $u_{i,j} = u(x_i,y_j)$ and apply the finite-difference formulas on either variable $x,y$ *acting separately* on the $i$ and $j$ indices. All derivatives are based on the 2D Taylor expansion of a mesh point value around $u_{i,j}$.\n",
    "\n",
    "Hence, for a first-order partial derivative in the $x$-direction, a finite-difference formula is:\n",
    "\n",
    "$$ \\frac{\\partial u}{\\partial x}\\biggr\\rvert_{i,j} = \\frac{u_{i+1,j}-u_{i,j}}{\\Delta x}+\\mathcal{O}(\\Delta x)$$\n",
    "\n",
    "and similarly in the $y$ direction. Thus, we can write backward-difference, forward-difference or central-difference formulas for Steps 5 to 12. Let's get started!"
   ]
  },
  {
   "cell_type": "markdown",
   "metadata": {},
   "source": [
    "Step 5: 2-D Linear Convection\n",
    "----\n",
    "***"
   ]
  },
  {
   "cell_type": "markdown",
   "metadata": {},
   "source": [
    "The PDE governing 2-D Linear Convection is written as\n",
    "\n",
    "$$\\frac{\\partial u}{\\partial t}+c\\frac{\\partial u}{\\partial x} + c\\frac{\\partial u}{\\partial y} = 0$$\n",
    "\n",
    "This is the exact same form as with 1-D Linear Convection, except that we now have two spatial dimensions to account for as we step forward in time.  \n",
    "\n",
    "Again, the timestep will be discretized as a forward difference and both spatial steps will be discretized as backward differences.  \n",
    "\n",
    "With 1-D implementations, we used $i$ subscripts to denote movement in space (e.g. $u_{i}^n-u_{i-1}^n$).  Now that we have two dimensions to account for, we need to add a second subscript, $j$, to account for all the information in the regime.  \n",
    "\n",
    "Here, we'll again use $i$ as the index for our $x$ values, and we'll add the $j$ subscript to track our $y$ values.  "
   ]
  },
  {
   "cell_type": "markdown",
   "metadata": {},
   "source": [
    "With that in mind, our discretization of the PDE should be relatively straightforward.  \n",
    "\n",
    "$$\\frac{u_{i,j}^{n+1}-u_{i,j}^n}{\\Delta t} + c\\frac{u_{i, j}^n-u_{i-1,j}^n}{\\Delta x} + c\\frac{u_{i,j}^n-u_{i,j-1}^n}{\\Delta y}=0$$\n",
    "\n",
    "As before, solve for the only unknown:\n",
    "\n",
    "$$u_{i,j}^{n+1} = u_{i,j}^n-c \\frac{\\Delta t}{\\Delta x}(u_{i,j}^n-u_{i-1,j}^n)-c \\frac{\\Delta t}{\\Delta y}(u_{i,j}^n-u_{i,j-1}^n)$$\n",
    "\n",
    "We will solve this equation with the following initial conditions:\n",
    "\n",
    "$$u(x,y) = \\begin{cases}\n",
    "\\begin{matrix}\n",
    "2\\ \\text{for} & 0.5 \\leq x, y \\leq 1 \\cr\n",
    "1\\ \\text{for} & \\text{everywhere else}\\end{matrix}\\end{cases}$$\n",
    "\n",
    "and boundary conditions:\n",
    "\n",
    "$$u = 1\\ \\text{for } \\begin{cases}\n",
    "\\begin{matrix}\n",
    "x =  0,\\ 2 \\cr\n",
    "y =  0,\\ 2 \\end{matrix}\\end{cases}$$"
   ]
  },
  {
   "cell_type": "code",
   "execution_count": null,
   "metadata": {
    "collapsed": false,
    "jupyter": {
     "outputs_hidden": false
    }
   },
   "outputs": [],
   "source": [
    "from mpl_toolkits.mplot3d import Axes3D    ##New Library required for projected 3d plots\n",
    "\n",
    "import numpy\n",
    "from matplotlib import pyplot, cm\n",
    "%matplotlib inline\n",
    "\n",
    "###variable declarations\n",
    "nx = 81\n",
    "ny = 81\n",
    "nt = 100\n",
    "c = 1\n",
    "dx = 2 / (nx - 1)\n",
    "dy = 2 / (ny - 1)\n",
    "sigma = .2\n",
    "dt = sigma * dx\n",
    "\n",
    "x = numpy.linspace(0, 2, nx)\n",
    "y = numpy.linspace(0, 2, ny)\n",
    "\n",
    "u = numpy.ones((ny, nx)) ##create a 1xn vector of 1's\n",
    "un = numpy.ones((ny, nx)) ##\n",
    "\n",
    "###Assign initial conditions\n",
    "\n",
    "##set hat function I.C. : u(.5<=x<=1 && .5<=y<=1 ) is 2\n",
    "u[int(.5 / dy):int(1 / dy + 1),int(.5 / dx):int(1 / dx + 1)] = 2 \n",
    "\n",
    "###Plot Initial Condition\n",
    "##the figsize parameter can be used to produce different sized images\n",
    "fig = pyplot.figure(figsize=(11, 7), dpi=100)\n",
    "ax = fig.gca(projection='3d')                      \n",
    "X, Y = numpy.meshgrid(x, y)                            \n",
    "surf = ax.plot_surface(X, Y, u[:], cmap=cm.viridis)\n",
    "\n"
   ]
  },
  {
   "cell_type": "markdown",
   "metadata": {},
   "source": [
    "### 3D Plotting Notes"
   ]
  },
  {
   "cell_type": "markdown",
   "metadata": {},
   "source": [
    "To plot a projected 3D result, make sure that you have added the Axes3D library.  "
   ]
  },
  {
   "cell_type": "markdown",
   "metadata": {},
   "source": [
    "    from mpl_toolkits.mplot3d import Axes3D"
   ]
  },
  {
   "cell_type": "markdown",
   "metadata": {},
   "source": [
    "The actual plotting commands are a little more involved than with simple 2d plots."
   ]
  },
  {
   "cell_type": "markdown",
   "metadata": {},
   "source": [
    "```python\n",
    "fig = pyplot.figure(figsize=(11, 7), dpi=100)\n",
    "ax = fig.gca(projection='3d')\n",
    "surf2 = ax.plot_surface(X, Y, u[:])\n",
    "```"
   ]
  },
  {
   "cell_type": "markdown",
   "metadata": {},
   "source": [
    "The first line here is initializing a figure window.  The **figsize** and **dpi** commands are optional and simply specify the size and resolution of the figure being produced.  You may omit them, but you will still require the \n",
    "    \n",
    "    fig = pyplot.figure()\n",
    "\n",
    "The next line assigns the plot window the axes label 'ax' and also specifies that it will be a 3d projection plot.  The final line uses the command\n",
    "    \n",
    "    plot_surface()\n",
    "\n",
    "which is equivalent to the regular plot command, but it takes a grid of X and Y values for the data point positions.  \n"
   ]
  },
  {
   "cell_type": "markdown",
   "metadata": {},
   "source": [
    "##### Note\n",
    "\n",
    "\n",
    "The `X` and `Y` values that you pass to `plot_surface` are not the 1-D vectors `x` and `y`.  In order to use matplotlibs 3D plotting functions, you need to generate a grid of `x, y` values which correspond to each coordinate in the plotting frame.  This coordinate grid is generated using the numpy function `meshgrid`.\n",
    "\n",
    "    X, Y = numpy.meshgrid(x, y)\n",
    "\n",
    " "
   ]
  },
  {
   "cell_type": "markdown",
   "metadata": {},
   "source": [
    "### Iterating in two dimensions"
   ]
  },
  {
   "cell_type": "markdown",
   "metadata": {},
   "source": [
    "To evaluate the wave in two dimensions requires the use of several nested for-loops to cover all of the `i`'s and `j`'s.  Since Python is not a compiled language there can be noticeable slowdowns in the execution of code with multiple for-loops.  First try evaluating the 2D convection code and see what results it produces. "
   ]
  },
  {
   "cell_type": "code",
   "execution_count": null,
   "metadata": {
    "collapsed": false,
    "jupyter": {
     "outputs_hidden": false
    }
   },
   "outputs": [],
   "source": [
    "u = numpy.ones((ny, nx))\n",
    "u[int(.5 / dy):int(1 / dy + 1), int(.5 / dx):int(1 / dx + 1)] = 2\n",
    "\n",
    "for n in range(nt + 1): ##loop across number of time steps\n",
    "    un = u.copy()\n",
    "    row, col = u.shape\n",
    "    for j in range(1, row):\n",
    "        for i in range(1, col):\n",
    "            u[j, i] = (un[j, i] - (c * dt / dx * (un[j, i] - un[j, i - 1])) -\n",
    "                                  (c * dt / dy * (un[j, i] - un[j - 1, i])))\n",
    "            u[0, :] = 1\n",
    "            u[-1, :] = 1\n",
    "            u[:, 0] = 1\n",
    "            u[:, -1] = 1\n",
    "\n",
    "fig = pyplot.figure(figsize=(11, 7), dpi=100)\n",
    "ax = fig.gca(projection='3d')\n",
    "surf2 = ax.plot_surface(X, Y, u[:], cmap=cm.viridis)"
   ]
  },
  {
   "cell_type": "markdown",
   "metadata": {},
   "source": [
    "Array Operations\n",
    "----------------\n",
    "\n",
    "Here the same 2D convection code is implemented, but instead of using nested for-loops, the same calculations are evaluated using array operations.  "
   ]
  },
  {
   "cell_type": "code",
   "execution_count": null,
   "metadata": {
    "collapsed": false,
    "jupyter": {
     "outputs_hidden": false
    }
   },
   "outputs": [],
   "source": [
    "u = numpy.ones((ny, nx))\n",
    "u[int(.5 / dy):int(1 / dy + 1), int(.5 / dx):int(1 / dx + 1)] = 2\n",
    "\n",
    "for n in range(nt + 1): ##loop across number of time steps\n",
    "    un = u.copy()\n",
    "    u[1:, 1:] = (un[1:, 1:] - (c * dt / dx * (un[1:, 1:] - un[1:, :-1])) -\n",
    "                              (c * dt / dy * (un[1:, 1:] - un[:-1, 1:])))\n",
    "    u[0, :] = 1\n",
    "    u[-1, :] = 1\n",
    "    u[:, 0] = 1\n",
    "    u[:, -1] = 1\n",
    "\n",
    "fig = pyplot.figure(figsize=(11, 7), dpi=100)\n",
    "ax = fig.gca(projection='3d')\n",
    "surf2 = ax.plot_surface(X, Y, u[:], cmap=cm.viridis)\n",
    "\n",
    "    "
   ]
  },
  {
   "cell_type": "markdown",
   "metadata": {},
   "source": [
    "## Learn More"
   ]
  },
  {
   "cell_type": "markdown",
   "metadata": {},
   "source": [
    "The video lesson that walks you through the details for Step 5 (and onwards to Step 8) is **Video Lesson 6** on You Tube:"
   ]
  },
  {
   "cell_type": "code",
   "execution_count": null,
   "metadata": {
    "collapsed": false,
    "jupyter": {
     "outputs_hidden": false
    }
   },
   "outputs": [],
   "source": [
    "from IPython.display import YouTubeVideo\n",
    "YouTubeVideo('tUg_dE3NXoY')"
   ]
  },
  {
   "cell_type": "code",
   "execution_count": null,
   "metadata": {
    "collapsed": false,
    "jupyter": {
     "outputs_hidden": false
    }
   },
   "outputs": [],
   "source": [
    "from IPython.core.display import HTML\n",
    "def css_styling():\n",
    "    styles = open(\"../styles/custom.css\", \"r\").read()\n",
    "    return HTML(styles)\n",
    "css_styling()"
   ]
  },
  {
   "cell_type": "markdown",
   "metadata": {},
   "source": [
    "> (The cell above executes the style for this notebook.)"
   ]
  }
 ],
 "metadata": {
  "kernelspec": {
   "display_name": "Python 3",
   "language": "python",
   "name": "python3"
  },
  "language_info": {
   "codemirror_mode": {
    "name": "ipython",
    "version": 3
   },
   "file_extension": ".py",
   "mimetype": "text/x-python",
   "name": "python",
   "nbconvert_exporter": "python",
   "pygments_lexer": "ipython3",
   "version": "3.7.7"
  }
 },
 "nbformat": 4,
 "nbformat_minor": 4
}
